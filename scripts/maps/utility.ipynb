{
 "cells": [
  {
   "cell_type": "markdown",
   "id": "60e53308-c5b9-4a47-a60d-02e1b8239c2b",
   "metadata": {},
   "source": [
    "# Deals with ECAL x and y pos"
   ]
  },
  {
   "cell_type": "code",
   "execution_count": 5,
   "id": "9dde10b0-44b4-4730-8c1a-4118d4733009",
   "metadata": {},
   "outputs": [],
   "source": [
    "def read_xypos_from_file(filename, delimiter=' '):\n",
    "    numbers = []\n",
    "    try:\n",
    "        with open(filename, 'r') as f:\n",
    "            for line in f:\n",
    "                line = line.split('#')[0]  # Remove comment after '#'\n",
    "                row = [float(x) for x in line.strip().split(delimiter) if x]\n",
    "                numbers.extend(row)\n",
    "        return numbers\n",
    "    except FileNotFoundError:\n",
    "        raise FileNotFoundError(f\"File '{filename}' not found.\")\n",
    "    except ValueError:\n",
    "        raise ValueError(f\"File '{filename}' contains non-numeric data.\")\n"
   ]
  },
  {
   "cell_type": "code",
   "execution_count": 22,
   "id": "0dd381f8-3c14-4e3f-b9a5-b49249e8ada2",
   "metadata": {},
   "outputs": [],
   "source": [
    "def write_numbers_to_file(numbers, filename):\n",
    "    try:\n",
    "        with open(filename, 'w') as f:\n",
    "            for num in numbers:\n",
    "                f.write(f\"{num}\\n\")\n",
    "    except Exception as e:\n",
    "        raise IOError(f\"Failed to write to '{filename}': {e}\")"
   ]
  },
  {
   "cell_type": "code",
   "execution_count": 15,
   "id": "6bf8adba-5932-4cd3-b751-382d13199bad",
   "metadata": {},
   "outputs": [],
   "source": [
    "pos = read_xypos_from_file(\"DB_ypos_ecal_from.txt\", ' ')"
   ]
  },
  {
   "cell_type": "code",
   "execution_count": 16,
   "id": "dda9d4aa-42a2-49db-a459-4b492a7b2473",
   "metadata": {},
   "outputs": [],
   "source": [
    "write_numbers_to_file(pos, \"temp.txt\")"
   ]
  },
  {
   "cell_type": "markdown",
   "id": "f7e15a12-8418-4f8d-b05f-40a887f1382e",
   "metadata": {},
   "source": [
    "# The code below deals with row and nol stuff"
   ]
  },
  {
   "cell_type": "code",
   "execution_count": 3,
   "id": "9c362582-bf1a-4b72-83a0-54684437917e",
   "metadata": {},
   "outputs": [],
   "source": [
    "def read_numbers_from_file(filename, delimiter=' '):\n",
    "    numbers = []\n",
    "    try:\n",
    "        with open(filename, 'r') as f:\n",
    "            for line in f:\n",
    "                row = [float(x) for x in line.strip().split(delimiter) if x]\n",
    "                numbers.extend(row)\n",
    "        return numbers\n",
    "    except FileNotFoundError:\n",
    "        raise FileNotFoundError(f\"File '{filename}' not found.\")\n",
    "    except ValueError:\n",
    "        raise ValueError(f\"File '{filename}' contains non-numeric data.\")"
   ]
  },
  {
   "cell_type": "code",
   "execution_count": 52,
   "id": "10991964-24db-4552-bbaa-5609b96563a1",
   "metadata": {},
   "outputs": [],
   "source": [
    "numbers = read_numbers_from_file(\"DB_ncol_per_row_ecal.txt\", ' ')"
   ]
  },
  {
   "cell_type": "code",
   "execution_count": 53,
   "id": "dafdddc8-571a-428a-9993-df16e1b4ab74",
   "metadata": {},
   "outputs": [],
   "source": [
    "#write_numbers_to_file(numbers,\"ncol_per_row_ecal.txt\")"
   ]
  },
  {
   "cell_type": "code",
   "execution_count": 20,
   "id": "5cb45ddc-380b-45c8-ab53-73aefeb55074",
   "metadata": {},
   "outputs": [],
   "source": [
    "# Special function for ncol per row print\n",
    "def print_ncol_per_row(numbers, filename):\n",
    "    try:\n",
    "        with open(filename, 'w') as f:    \n",
    "            for num in numbers:\n",
    "                for i in range(int(num)):\n",
    "                    f.write(f\"{int(num)}\\n\")\n",
    "    except Exception as e:\n",
    "        raise IOError(f\"Failed to write to '{filename}': {e}\")"
   ]
  },
  {
   "cell_type": "code",
   "execution_count": 25,
   "id": "37fe5990-b99a-4162-b67b-7e323d845231",
   "metadata": {},
   "outputs": [],
   "source": [
    "#print_ncol_per_row(numbers, \"ncol_per_row_ecal.txt\")"
   ]
  },
  {
   "cell_type": "markdown",
   "id": "aedb80a9-50d3-41f2-abe0-571723cf9885",
   "metadata": {},
   "source": [
    "# The code below handels bad channel bit"
   ]
  },
  {
   "cell_type": "code",
   "execution_count": 19,
   "id": "142ce5b4-4682-439a-ae74-b2ea12256182",
   "metadata": {},
   "outputs": [],
   "source": [
    "badc = read_numbers_from_file(\"JY_bad_channels.txt\",' ')"
   ]
  },
  {
   "cell_type": "code",
   "execution_count": 20,
   "id": "2f81e3e0-dd66-4dfc-aa3b-f9368fb88975",
   "metadata": {},
   "outputs": [],
   "source": [
    "import pandas as pd"
   ]
  },
  {
   "cell_type": "code",
   "execution_count": 21,
   "id": "77b659b4-44b8-4322-a5c7-6e0a3172e9a0",
   "metadata": {},
   "outputs": [],
   "source": [
    "df = pd.read_csv(\"ECAL_r_c_x_y_cpr.csv\", index_col=0)"
   ]
  },
  {
   "cell_type": "code",
   "execution_count": 22,
   "id": "fbcb245a-af22-4798-890e-00aeeda70384",
   "metadata": {},
   "outputs": [
    {
     "data": {
      "text/html": [
       "<div>\n",
       "<style scoped>\n",
       "    .dataframe tbody tr th:only-of-type {\n",
       "        vertical-align: middle;\n",
       "    }\n",
       "\n",
       "    .dataframe tbody tr th {\n",
       "        vertical-align: top;\n",
       "    }\n",
       "\n",
       "    .dataframe thead th {\n",
       "        text-align: right;\n",
       "    }\n",
       "</style>\n",
       "<table border=\"1\" class=\"dataframe\">\n",
       "  <thead>\n",
       "    <tr style=\"text-align: right;\">\n",
       "      <th></th>\n",
       "      <th>row</th>\n",
       "      <th>col</th>\n",
       "      <th>xpos</th>\n",
       "      <th>ypos</th>\n",
       "      <th>ncol_per_row</th>\n",
       "    </tr>\n",
       "    <tr>\n",
       "      <th>idblk</th>\n",
       "      <th></th>\n",
       "      <th></th>\n",
       "      <th></th>\n",
       "      <th></th>\n",
       "      <th></th>\n",
       "    </tr>\n",
       "  </thead>\n",
       "  <tbody>\n",
       "    <tr>\n",
       "      <th>0</th>\n",
       "      <td>0</td>\n",
       "      <td>0</td>\n",
       "      <td>1.45074</td>\n",
       "      <td>-0.62217</td>\n",
       "      <td>12</td>\n",
       "    </tr>\n",
       "    <tr>\n",
       "      <th>1</th>\n",
       "      <td>0</td>\n",
       "      <td>1</td>\n",
       "      <td>1.45074</td>\n",
       "      <td>-0.57925</td>\n",
       "      <td>12</td>\n",
       "    </tr>\n",
       "    <tr>\n",
       "      <th>2</th>\n",
       "      <td>0</td>\n",
       "      <td>2</td>\n",
       "      <td>1.45074</td>\n",
       "      <td>-0.53632</td>\n",
       "      <td>12</td>\n",
       "    </tr>\n",
       "    <tr>\n",
       "      <th>3</th>\n",
       "      <td>0</td>\n",
       "      <td>3</td>\n",
       "      <td>1.45074</td>\n",
       "      <td>-0.49177</td>\n",
       "      <td>12</td>\n",
       "    </tr>\n",
       "    <tr>\n",
       "      <th>4</th>\n",
       "      <td>0</td>\n",
       "      <td>4</td>\n",
       "      <td>1.45074</td>\n",
       "      <td>-0.44884</td>\n",
       "      <td>12</td>\n",
       "    </tr>\n",
       "  </tbody>\n",
       "</table>\n",
       "</div>"
      ],
      "text/plain": [
       "       row  col     xpos     ypos  ncol_per_row\n",
       "idblk                                          \n",
       "0        0    0  1.45074 -0.62217            12\n",
       "1        0    1  1.45074 -0.57925            12\n",
       "2        0    2  1.45074 -0.53632            12\n",
       "3        0    3  1.45074 -0.49177            12\n",
       "4        0    4  1.45074 -0.44884            12"
      ]
     },
     "execution_count": 22,
     "metadata": {},
     "output_type": "execute_result"
    }
   ],
   "source": [
    "df.head()"
   ]
  },
  {
   "cell_type": "code",
   "execution_count": 23,
   "id": "a3106d67-f1b5-41e8-8e14-11e10b099883",
   "metadata": {},
   "outputs": [
    {
     "name": "stdout",
     "output_type": "stream",
     "text": [
      "1.36489\n"
     ]
    }
   ],
   "source": [
    "print(df.loc[int(badc[0]),'xpos'])"
   ]
  },
  {
   "cell_type": "code",
   "execution_count": 24,
   "id": "4f97fa49-4d14-4474-a2c9-a5e471fe512e",
   "metadata": {},
   "outputs": [],
   "source": [
    "# Prints ECAL bad channels with x,y pos\n",
    "def print_ecal_bad_channels(numbers, ecalmap, filename):\n",
    "    try:\n",
    "        with open(filename, 'w') as f:  \n",
    "            f.write(\"idblk,xpos,ypos\\n\")\n",
    "            for num in numbers:\n",
    "                f.write(f\"{int(num)},{ecalmap.loc[int(num),'xpos']},{ecalmap.loc[int(num),'ypos']}\\n\")\n",
    "    except Exception as e:\n",
    "        raise IOError(f\"Failed to write to '{filename}': {e}\")"
   ]
  },
  {
   "cell_type": "code",
   "execution_count": 27,
   "id": "b9f09f84-3a30-4f0a-8ea7-6dd90815d9c4",
   "metadata": {},
   "outputs": [],
   "source": [
    "print_ecal_bad_channels(badc,df,\"bad_ecal_channels_04_05_25.csv\")"
   ]
  },
  {
   "cell_type": "markdown",
   "id": "dad26829-560e-474a-a3e4-bdb100640ea8",
   "metadata": {},
   "source": [
    "# Let's add a column to the full ECAL map file to indicate the blocks on edge"
   ]
  },
  {
   "cell_type": "code",
   "execution_count": 1,
   "id": "4f2de1e3-08ac-47be-82a7-cef4b7a1d87b",
   "metadata": {},
   "outputs": [],
   "source": [
    "import pandas as pd"
   ]
  },
  {
   "cell_type": "code",
   "execution_count": 6,
   "id": "72dc0006-6a0f-4368-ab00-e615dd9cec43",
   "metadata": {},
   "outputs": [
    {
     "data": {
      "text/html": [
       "<div>\n",
       "<style scoped>\n",
       "    .dataframe tbody tr th:only-of-type {\n",
       "        vertical-align: middle;\n",
       "    }\n",
       "\n",
       "    .dataframe tbody tr th {\n",
       "        vertical-align: top;\n",
       "    }\n",
       "\n",
       "    .dataframe thead th {\n",
       "        text-align: right;\n",
       "    }\n",
       "</style>\n",
       "<table border=\"1\" class=\"dataframe\">\n",
       "  <thead>\n",
       "    <tr style=\"text-align: right;\">\n",
       "      <th></th>\n",
       "      <th>idblk</th>\n",
       "      <th>row</th>\n",
       "      <th>col</th>\n",
       "      <th>xpos</th>\n",
       "      <th>ypos</th>\n",
       "      <th>ncol_per_row</th>\n",
       "    </tr>\n",
       "  </thead>\n",
       "  <tbody>\n",
       "    <tr>\n",
       "      <th>0</th>\n",
       "      <td>0</td>\n",
       "      <td>0</td>\n",
       "      <td>0</td>\n",
       "      <td>1.45074</td>\n",
       "      <td>-0.62217</td>\n",
       "      <td>12</td>\n",
       "    </tr>\n",
       "    <tr>\n",
       "      <th>1</th>\n",
       "      <td>1</td>\n",
       "      <td>0</td>\n",
       "      <td>1</td>\n",
       "      <td>1.45074</td>\n",
       "      <td>-0.57925</td>\n",
       "      <td>12</td>\n",
       "    </tr>\n",
       "    <tr>\n",
       "      <th>2</th>\n",
       "      <td>2</td>\n",
       "      <td>0</td>\n",
       "      <td>2</td>\n",
       "      <td>1.45074</td>\n",
       "      <td>-0.53632</td>\n",
       "      <td>12</td>\n",
       "    </tr>\n",
       "    <tr>\n",
       "      <th>3</th>\n",
       "      <td>3</td>\n",
       "      <td>0</td>\n",
       "      <td>3</td>\n",
       "      <td>1.45074</td>\n",
       "      <td>-0.49177</td>\n",
       "      <td>12</td>\n",
       "    </tr>\n",
       "    <tr>\n",
       "      <th>4</th>\n",
       "      <td>4</td>\n",
       "      <td>0</td>\n",
       "      <td>4</td>\n",
       "      <td>1.45074</td>\n",
       "      <td>-0.44884</td>\n",
       "      <td>12</td>\n",
       "    </tr>\n",
       "  </tbody>\n",
       "</table>\n",
       "</div>"
      ],
      "text/plain": [
       "   idblk  row  col     xpos     ypos  ncol_per_row\n",
       "0      0    0    0  1.45074 -0.62217            12\n",
       "1      1    0    1  1.45074 -0.57925            12\n",
       "2      2    0    2  1.45074 -0.53632            12\n",
       "3      3    0    3  1.45074 -0.49177            12\n",
       "4      4    0    4  1.45074 -0.44884            12"
      ]
     },
     "execution_count": 6,
     "metadata": {},
     "output_type": "execute_result"
    }
   ],
   "source": [
    "df = pd.read_csv(\"ECAL_r_c_x_y_cpr.csv\")\n",
    "df.head()"
   ]
  },
  {
   "cell_type": "code",
   "execution_count": 4,
   "id": "3740cf0b-4186-4881-9d3f-0a7e504e7f5b",
   "metadata": {},
   "outputs": [],
   "source": [
    "edgeblkid = read_numbers_from_file(\"edge_blocks_ecal.txt\", ' ')"
   ]
  },
  {
   "cell_type": "code",
   "execution_count": 8,
   "id": "926b2b7a-7c6a-4999-8719-14c5f680ba41",
   "metadata": {},
   "outputs": [],
   "source": [
    "edgeblkid_int = [int(num) for num in edgeblkid]"
   ]
  },
  {
   "cell_type": "code",
   "execution_count": 10,
   "id": "7b9f367e-6223-4920-b64e-cc64141159fc",
   "metadata": {},
   "outputs": [
    {
     "data": {
      "text/plain": [
       "0"
      ]
     },
     "execution_count": 10,
     "metadata": {},
     "output_type": "execute_result"
    }
   ],
   "source": [
    "edgeblkid_int[0]"
   ]
  },
  {
   "cell_type": "code",
   "execution_count": 17,
   "id": "856efe45-31eb-470f-b081-7bbe550ed789",
   "metadata": {},
   "outputs": [],
   "source": [
    "isonedge = []\n",
    "for index, row in df.iterrows():\n",
    "    if row['idblk'] in edgeblkid_int:\n",
    "        isonedge.append(1)\n",
    "    else:\n",
    "        isonedge.append(0)"
   ]
  },
  {
   "cell_type": "code",
   "execution_count": 23,
   "id": "9792c8ee-c668-4c38-b603-affc962327af",
   "metadata": {},
   "outputs": [],
   "source": [
    "write_numbers_to_file(isonedge, \"temp.txt\")"
   ]
  },
  {
   "cell_type": "code",
   "execution_count": null,
   "id": "1a8efdf6-3cbe-48fa-8717-120e10509a6a",
   "metadata": {},
   "outputs": [],
   "source": []
  }
 ],
 "metadata": {
  "kernelspec": {
   "display_name": "Python 3 (ipykernel)",
   "language": "python",
   "name": "python3"
  },
  "language_info": {
   "codemirror_mode": {
    "name": "ipython",
    "version": 3
   },
   "file_extension": ".py",
   "mimetype": "text/x-python",
   "name": "python",
   "nbconvert_exporter": "python",
   "pygments_lexer": "ipython3",
   "version": "3.11.9"
  }
 },
 "nbformat": 4,
 "nbformat_minor": 5
}
