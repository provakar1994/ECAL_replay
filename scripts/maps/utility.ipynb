{
 "cells": [
  {
   "cell_type": "code",
   "execution_count": 47,
   "id": "9dde10b0-44b4-4730-8c1a-4118d4733009",
   "metadata": {},
   "outputs": [],
   "source": [
    "def read_numbers_from_file(filename, delimiter=' '):\n",
    "    numbers = []\n",
    "    try:\n",
    "        with open(filename, 'r') as f:\n",
    "            for line in f:\n",
    "                row = [float(x) for x in line.strip().split(delimiter) if x]\n",
    "                numbers.extend(row)\n",
    "        return numbers\n",
    "    except FileNotFoundError:\n",
    "        raise FileNotFoundError(f\"File '{filename}' not found.\")\n",
    "    except ValueError:\n",
    "        raise ValueError(f\"File '{filename}' contains non-numeric data.\")\n"
   ]
  },
  {
   "cell_type": "code",
   "execution_count": 51,
   "id": "0dd381f8-3c14-4e3f-b9a5-b49249e8ada2",
   "metadata": {},
   "outputs": [],
   "source": [
    "def write_numbers_to_file(numbers, filename):\n",
    "    try:\n",
    "        with open(filename, 'w') as f:\n",
    "            for num in numbers:\n",
    "                f.write(f\"{int(num)}\\n\")\n",
    "    except Exception as e:\n",
    "        raise IOError(f\"Failed to write to '{filename}': {e}\")"
   ]
  },
  {
   "cell_type": "code",
   "execution_count": 52,
   "id": "10991964-24db-4552-bbaa-5609b96563a1",
   "metadata": {},
   "outputs": [],
   "source": [
    "numbers = read_numbers_from_file(\"DB_ncol_per_row_ecal.txt\", ' ')"
   ]
  },
  {
   "cell_type": "code",
   "execution_count": 53,
   "id": "dafdddc8-571a-428a-9993-df16e1b4ab74",
   "metadata": {},
   "outputs": [],
   "source": [
    "#write_numbers_to_file(numbers,\"ncol_per_row_ecal.txt\")"
   ]
  },
  {
   "cell_type": "code",
   "execution_count": 24,
   "id": "5cb45ddc-380b-45c8-ab53-73aefeb55074",
   "metadata": {},
   "outputs": [],
   "source": [
    "# Special function for ncol per row print\n",
    "def print_ncol_per_row(numbers, filename):\n",
    "    try:\n",
    "        with open(filename, 'w') as f:    \n",
    "            for num in numbers:\n",
    "                for i in range(int(num)):\n",
    "                    f.write(f\"{int(num)}\\n\")\n",
    "    except Exception as e:\n",
    "        raise IOError(f\"Failed to write to '{filename}': {e}\")"
   ]
  },
  {
   "cell_type": "code",
   "execution_count": 25,
   "id": "37fe5990-b99a-4162-b67b-7e323d845231",
   "metadata": {},
   "outputs": [],
   "source": [
    "#print_ncol_per_row(numbers, \"ncol_per_row_ecal.txt\")"
   ]
  },
  {
   "cell_type": "code",
   "execution_count": 26,
   "id": "142ce5b4-4682-439a-ae74-b2ea12256182",
   "metadata": {},
   "outputs": [],
   "source": [
    "badc = read_numbers_from_file(\"JY_bad_channels.txt\",' ')"
   ]
  },
  {
   "cell_type": "code",
   "execution_count": 28,
   "id": "2f81e3e0-dd66-4dfc-aa3b-f9368fb88975",
   "metadata": {},
   "outputs": [],
   "source": [
    "import pandas as pd"
   ]
  },
  {
   "cell_type": "code",
   "execution_count": 31,
   "id": "77b659b4-44b8-4322-a5c7-6e0a3172e9a0",
   "metadata": {},
   "outputs": [],
   "source": [
    "df = pd.read_csv(\"ECAL_r_c_x_y_cpr.csv\", index_col=0)"
   ]
  },
  {
   "cell_type": "code",
   "execution_count": 32,
   "id": "fbcb245a-af22-4798-890e-00aeeda70384",
   "metadata": {},
   "outputs": [
    {
     "data": {
      "text/html": [
       "<div>\n",
       "<style scoped>\n",
       "    .dataframe tbody tr th:only-of-type {\n",
       "        vertical-align: middle;\n",
       "    }\n",
       "\n",
       "    .dataframe tbody tr th {\n",
       "        vertical-align: top;\n",
       "    }\n",
       "\n",
       "    .dataframe thead th {\n",
       "        text-align: right;\n",
       "    }\n",
       "</style>\n",
       "<table border=\"1\" class=\"dataframe\">\n",
       "  <thead>\n",
       "    <tr style=\"text-align: right;\">\n",
       "      <th></th>\n",
       "      <th>row</th>\n",
       "      <th>col</th>\n",
       "      <th>xpos</th>\n",
       "      <th>ypos</th>\n",
       "      <th>ncol_per_row</th>\n",
       "    </tr>\n",
       "    <tr>\n",
       "      <th>idblk</th>\n",
       "      <th></th>\n",
       "      <th></th>\n",
       "      <th></th>\n",
       "      <th></th>\n",
       "      <th></th>\n",
       "    </tr>\n",
       "  </thead>\n",
       "  <tbody>\n",
       "    <tr>\n",
       "      <th>0</th>\n",
       "      <td>0</td>\n",
       "      <td>0</td>\n",
       "      <td>1.45074</td>\n",
       "      <td>-0.564624</td>\n",
       "      <td>12</td>\n",
       "    </tr>\n",
       "    <tr>\n",
       "      <th>1</th>\n",
       "      <td>0</td>\n",
       "      <td>1</td>\n",
       "      <td>1.45074</td>\n",
       "      <td>-0.521698</td>\n",
       "      <td>12</td>\n",
       "    </tr>\n",
       "    <tr>\n",
       "      <th>2</th>\n",
       "      <td>0</td>\n",
       "      <td>2</td>\n",
       "      <td>1.45074</td>\n",
       "      <td>-0.478772</td>\n",
       "      <td>12</td>\n",
       "    </tr>\n",
       "    <tr>\n",
       "      <th>3</th>\n",
       "      <td>0</td>\n",
       "      <td>3</td>\n",
       "      <td>1.45074</td>\n",
       "      <td>-0.434221</td>\n",
       "      <td>12</td>\n",
       "    </tr>\n",
       "    <tr>\n",
       "      <th>4</th>\n",
       "      <td>0</td>\n",
       "      <td>4</td>\n",
       "      <td>1.45074</td>\n",
       "      <td>-0.391295</td>\n",
       "      <td>12</td>\n",
       "    </tr>\n",
       "  </tbody>\n",
       "</table>\n",
       "</div>"
      ],
      "text/plain": [
       "       row  col     xpos      ypos  ncol_per_row\n",
       "idblk                                           \n",
       "0        0    0  1.45074 -0.564624            12\n",
       "1        0    1  1.45074 -0.521698            12\n",
       "2        0    2  1.45074 -0.478772            12\n",
       "3        0    3  1.45074 -0.434221            12\n",
       "4        0    4  1.45074 -0.391295            12"
      ]
     },
     "execution_count": 32,
     "metadata": {},
     "output_type": "execute_result"
    }
   ],
   "source": [
    "df.head()"
   ]
  },
  {
   "cell_type": "code",
   "execution_count": 38,
   "id": "a3106d67-f1b5-41e8-8e14-11e10b099883",
   "metadata": {},
   "outputs": [
    {
     "name": "stdout",
     "output_type": "stream",
     "text": [
      "1.36489\n"
     ]
    }
   ],
   "source": [
    "print(df.loc[int(badc[0]),'xpos'])"
   ]
  },
  {
   "cell_type": "code",
   "execution_count": 44,
   "id": "4f97fa49-4d14-4474-a2c9-a5e471fe512e",
   "metadata": {},
   "outputs": [],
   "source": [
    "# Prints ECAL bad channels with x,y pos\n",
    "def print_ecal_bad_channels(numbers, ecalmap, filename):\n",
    "    try:\n",
    "        with open(filename, 'w') as f:  \n",
    "            f.write(\"idblk,xpos,ypos\\n\")\n",
    "            for num in numbers:\n",
    "                f.write(f\"{int(num)},{ecalmap.loc[int(num),'xpos']},{ecalmap.loc[int(num),'ypos']}\\n\")\n",
    "    except Exception as e:\n",
    "        raise IOError(f\"Failed to write to '{filename}': {e}\")"
   ]
  },
  {
   "cell_type": "code",
   "execution_count": 45,
   "id": "b9f09f84-3a30-4f0a-8ea7-6dd90815d9c4",
   "metadata": {},
   "outputs": [],
   "source": [
    "print_ecal_bad_channels(badc,df,\"bad_ecal_channels_04_05_25.txt\")"
   ]
  },
  {
   "cell_type": "code",
   "execution_count": null,
   "id": "c981065c-2f79-4f93-b3ac-a5a14771599f",
   "metadata": {},
   "outputs": [],
   "source": []
  }
 ],
 "metadata": {
  "kernelspec": {
   "display_name": "Python 3 (ipykernel)",
   "language": "python",
   "name": "python3"
  },
  "language_info": {
   "codemirror_mode": {
    "name": "ipython",
    "version": 3
   },
   "file_extension": ".py",
   "mimetype": "text/x-python",
   "name": "python",
   "nbconvert_exporter": "python",
   "pygments_lexer": "ipython3",
   "version": "3.11.9"
  }
 },
 "nbformat": 4,
 "nbformat_minor": 5
}
